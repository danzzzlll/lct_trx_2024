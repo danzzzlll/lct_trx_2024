{
 "cells": [
  {
   "cell_type": "code",
   "execution_count": 1,
   "id": "f38fa891",
   "metadata": {},
   "outputs": [
    {
     "name": "stderr",
     "output_type": "stream",
     "text": [
      "/home/jovyan/.conda/envs/py39tf/lib/python3.9/site-packages/tqdm/auto.py:21: TqdmWarning: IProgress not found. Please update jupyter and ipywidgets. See https://ipywidgets.readthedocs.io/en/stable/user_install.html\n",
      "  from .autonotebook import tqdm as notebook_tqdm\n"
     ]
    }
   ],
   "source": [
    "import pandas as pd\n",
    "import numpy as np\n",
    "from tqdm.auto import tqdm\n",
    "import lightgbm as ltb\n",
    "\n",
    "from sklearn.metrics import roc_auc_score\n",
    "\n",
    "import catboost as cb\n",
    "\n",
    "import os\n",
    "os.environ[\"OMP_NUM_THREADS\"] = \"4\"\n",
    "os.environ[\"CUDA_DEVICE_ORDER\"] = \"PCI_BUS_ID\"\n",
    "os.environ[\"CUDA_VISIBLE_DEVICES\"] = \"6,7\""
   ]
  },
  {
   "cell_type": "code",
   "execution_count": 2,
   "id": "53ad0d27",
   "metadata": {},
   "outputs": [],
   "source": [
    "X_train = pd.read_parquet('embeddings/X_train_lastTry.parquet')\n",
    "X_test = pd.read_parquet('embeddings/X_test_lastTry.parquet')"
   ]
  },
  {
   "cell_type": "code",
   "execution_count": 3,
   "id": "67a82581",
   "metadata": {},
   "outputs": [],
   "source": [
    "class Downstream:\n",
    "    def __init__(\n",
    "        self,\n",
    "        train_path,\n",
    "        test_path,\n",
    "        params,\n",
    "        result_path,\n",
    "        col_id='client_id',\n",
    "        targets=(\n",
    "            'target_1',\n",
    "            'target_2',\n",
    "            'target_3',\n",
    "            'target_4'\n",
    "        )\n",
    "    ):\n",
    "        self.train_path = train_path\n",
    "        self.test_path = test_path\n",
    "\n",
    "        self.col_id = col_id\n",
    "        self.all_targets = targets\n",
    "        self.params = params\n",
    "        self.result_path = result_path\n",
    "        self.drop_feat = list(self.all_targets) + [self.col_id] + ['month'] + ['client']\n",
    "\n",
    "    def fit(self):\n",
    "\n",
    "#         train_embeddings =  self.train_path/ #pd.read_parquet(self.train_path)\n",
    "        X_tr = self.train_path.drop(columns=self.drop_feat).copy()\n",
    "\n",
    "        clfs1 = dict()\n",
    "        clfs2 = dict()\n",
    "        clfs3 = dict()\n",
    "        clfs4 = dict()\n",
    "        clfs5 = dict()\n",
    "        clfs6 = dict()\n",
    "        \n",
    "        for col_target in tqdm(self.all_targets):\n",
    "            \n",
    "\n",
    "            print('init clf4')\n",
    "            clf4 = cb.CatBoostClassifier(learning_rate = 0.03, iterations = 1700, class_weights = [1, 9], verbose=100, random_state = 42, task_type = 'GPU')\n",
    "            print('init clf5')\n",
    "            clf5 = cb.CatBoostClassifier(learning_rate = 0.03, iterations = 1700, class_weights = [1, 9], verbose=100, random_state = 69, task_type = 'GPU')\n",
    "            print('init clf6')\n",
    "            clf6 = cb.CatBoostClassifier(learning_rate = 0.03, iterations = 1700, class_weights = [1, 9], verbose=100, random_state = 228, task_type = 'GPU')\n",
    "            print('init clf1')\n",
    "            clf1 = ltb.LGBMClassifier(**self.params, random_state = 42)\n",
    "            clf2 = ltb.LGBMClassifier(**self.params, random_state = 69)\n",
    "            clf3 = ltb.LGBMClassifier(**self.params, random_state = 228)\n",
    "            y_train = self.train_path[col_target].copy()\n",
    "            \n",
    "            clf1.fit(X_tr, y_train)\n",
    "            clf2.fit(X_tr, y_train)\n",
    "            clf3.fit(X_tr, y_train)\n",
    "            clf4.fit(X_tr, y_train)\n",
    "            clf5.fit(X_tr, y_train)\n",
    "            clf6.fit(X_tr, y_train)\n",
    "            \n",
    "            print(f'Model fitted, target: {col_target}')\n",
    "            clfs1[col_target] = clf1\n",
    "            clfs2[col_target] = clf2\n",
    "            clfs3[col_target] = clf3\n",
    "            clfs4[col_target] = clf4\n",
    "            clfs5[col_target] = clf5\n",
    "            clfs6[col_target] = clf6\n",
    "\n",
    "        return clfs1, clfs2,clfs3, clfs4,clfs5, clfs6\n",
    "#         return clfs1, clfs4, clfs5, clfs6\n",
    "\n",
    "    def get_scores(\n",
    "        self,\n",
    "        clfs1,\n",
    "        clfs2,\n",
    "        clfs3,\n",
    "        clfs4,\n",
    "        clfs5,\n",
    "        clfs6\n",
    "    ):\n",
    "        scores = pd.DataFrame([])\n",
    "\n",
    "#         test_embeddings_curr = self.test_path.drop_duplicates('client_id') #pd.read_parquet(self.test_path).drop_duplicates('client_id')\n",
    "        X_test = (self.test_path.drop_duplicates('client_id')).drop(columns=[self.col_id]).copy()\n",
    "        ids = X_test[self.col_id]\n",
    "        scores[self.col_id] = ids\n",
    "\n",
    "        for col_target in self.all_targets:\n",
    "            clf1 = clfs1[col_target]\n",
    "            clf2 = clfs2[col_target]\n",
    "            clf3 = clfs3[col_target]\n",
    "            clf4 = clfs4[col_target]\n",
    "            clf5 = clfs5[col_target]\n",
    "            clf6 = clfs6[col_target]\n",
    "            score1 = clf1.predict_proba(X_test)[:, 1]\n",
    "            score2 = clf2.predict_proba(X_test)[:, 1]\n",
    "            score3 = clf3.predict_proba(X_test)[:, 1]\n",
    "            score4 = clf4.predict_proba(X_test)[:, 1]\n",
    "            score5 = clf5.predict_proba(X_test)[:, 1]\n",
    "            score6 = clf6.predict_proba(X_test)[:, 1]\n",
    "            scores[col_target] = 0.7 * (score1, score2, score3) + (score4 + score5 + score6) / 3 * 0.3\n",
    "\n",
    "        return scores\n",
    "\n",
    "    def run(self):\n",
    "        clfs1, clfs2, clfs3, clfs4, clfs5, clfs6 = self.fit()\n",
    "        scores = self.get_scores(clfs1, clfs2, clfs3, clfs4, clfs5, clfs6)\n",
    "\n",
    "        scores.to_csv(self.result_path)\n",
    "\n",
    "        return scores\n",
    "    \n",
    "params = {\n",
    "    \"n_estimators\": 500,\n",
    "      \"boosting_type\": \"gbdt\",\n",
    "      \"objective\": \"binary\",\n",
    "      \"subsample\": 0.5,\n",
    "      \"subsample_freq\": 1,\n",
    "      \"learning_rate\": 0.02,\n",
    "      \"feature_fraction\": 0.75,\n",
    "      \"max_depth\": 6,\n",
    "      \"lambda_l1\": 1,\n",
    "      \"lambda_l2\": 1,\n",
    "      \"min_data_in_leaf\": 50,\n",
    "      \"n_jobs\": 8,\n",
    "}\n"
   ]
  },
  {
   "cell_type": "code",
   "execution_count": null,
   "id": "1822a4d7",
   "metadata": {},
   "outputs": [
    {
     "name": "stderr",
     "output_type": "stream",
     "text": [
      "  0%|          | 0/4 [00:00<?, ?it/s]"
     ]
    },
    {
     "name": "stdout",
     "output_type": "stream",
     "text": [
      "init clf4\n",
      "init clf5\n",
      "init clf6\n",
      "init clf1\n",
      "[LightGBM] [Warning] lambda_l1 is set=1, reg_alpha=0.0 will be ignored. Current value: lambda_l1=1\n",
      "[LightGBM] [Warning] feature_fraction is set=0.75, colsample_bytree=1.0 will be ignored. Current value: feature_fraction=0.75\n",
      "[LightGBM] [Warning] lambda_l2 is set=1, reg_lambda=0.0 will be ignored. Current value: lambda_l2=1\n",
      "[LightGBM] [Warning] min_data_in_leaf is set=50, min_child_samples=20 will be ignored. Current value: min_data_in_leaf=50\n"
     ]
    },
    {
     "name": "stderr",
     "output_type": "stream",
     "text": [
      "Warning: less than 75% gpu memory available for training. Free: 23461.6875 Total: 81050.625\n"
     ]
    },
    {
     "name": "stdout",
     "output_type": "stream",
     "text": [
      "0:\tlearn: 0.5537613\ttotal: 134ms\tremaining: 3m 47s\n",
      "100:\tlearn: 0.0387185\ttotal: 6.17s\tremaining: 1m 37s\n",
      "200:\tlearn: 0.0381290\ttotal: 12.2s\tremaining: 1m 30s\n",
      "300:\tlearn: 0.0378412\ttotal: 18.1s\tremaining: 1m 24s\n",
      "400:\tlearn: 0.0376356\ttotal: 24s\tremaining: 1m 17s\n",
      "500:\tlearn: 0.0374824\ttotal: 29.8s\tremaining: 1m 11s\n",
      "600:\tlearn: 0.0373549\ttotal: 35.8s\tremaining: 1m 5s\n",
      "700:\tlearn: 0.0372390\ttotal: 41.6s\tremaining: 59.4s\n",
      "800:\tlearn: 0.0371285\ttotal: 47.6s\tremaining: 53.4s\n",
      "900:\tlearn: 0.0370395\ttotal: 53.4s\tremaining: 47.4s\n",
      "1000:\tlearn: 0.0369504\ttotal: 59.2s\tremaining: 41.4s\n",
      "1100:\tlearn: 0.0368596\ttotal: 1m 5s\tremaining: 35.4s\n",
      "1200:\tlearn: 0.0367781\ttotal: 1m 10s\tremaining: 29.5s\n",
      "1300:\tlearn: 0.0366951\ttotal: 1m 16s\tremaining: 23.6s\n",
      "1400:\tlearn: 0.0366143\ttotal: 1m 22s\tremaining: 17.6s\n",
      "1500:\tlearn: 0.0365394\ttotal: 1m 28s\tremaining: 11.7s\n",
      "1600:\tlearn: 0.0364638\ttotal: 1m 34s\tremaining: 5.83s\n",
      "1699:\tlearn: 0.0363974\ttotal: 1m 40s\tremaining: 0us\n"
     ]
    },
    {
     "name": "stderr",
     "output_type": "stream",
     "text": [
      "Warning: less than 75% gpu memory available for training. Free: 23455.6875 Total: 81050.625\n"
     ]
    },
    {
     "name": "stdout",
     "output_type": "stream",
     "text": [
      "0:\tlearn: 0.5544849\ttotal: 74.9ms\tremaining: 2m 7s\n",
      "100:\tlearn: 0.0387160\ttotal: 6.54s\tremaining: 1m 43s\n",
      "200:\tlearn: 0.0381113\ttotal: 12.8s\tremaining: 1m 35s\n",
      "300:\tlearn: 0.0378274\ttotal: 19s\tremaining: 1m 28s\n",
      "400:\tlearn: 0.0376351\ttotal: 25.2s\tremaining: 1m 21s\n",
      "500:\tlearn: 0.0374925\ttotal: 31.3s\tremaining: 1m 14s\n",
      "600:\tlearn: 0.0373628\ttotal: 37.5s\tremaining: 1m 8s\n",
      "700:\tlearn: 0.0372422\ttotal: 43.8s\tremaining: 1m 2s\n",
      "800:\tlearn: 0.0371403\ttotal: 50s\tremaining: 56.1s\n",
      "900:\tlearn: 0.0370427\ttotal: 56.2s\tremaining: 49.9s\n",
      "1000:\tlearn: 0.0369455\ttotal: 1m 2s\tremaining: 43.5s\n",
      "1100:\tlearn: 0.0368619\ttotal: 1m 8s\tremaining: 37.3s\n",
      "1200:\tlearn: 0.0367804\ttotal: 1m 14s\tremaining: 31s\n",
      "1300:\tlearn: 0.0366969\ttotal: 1m 20s\tremaining: 24.8s\n",
      "1400:\tlearn: 0.0366149\ttotal: 1m 26s\tremaining: 18.5s\n",
      "1500:\tlearn: 0.0365379\ttotal: 1m 32s\tremaining: 12.3s\n",
      "1600:\tlearn: 0.0364611\ttotal: 1m 39s\tremaining: 6.13s\n",
      "1699:\tlearn: 0.0363866\ttotal: 1m 45s\tremaining: 0us\n"
     ]
    },
    {
     "name": "stderr",
     "output_type": "stream",
     "text": [
      "Warning: less than 75% gpu memory available for training. Free: 23455.6875 Total: 81050.625\n"
     ]
    },
    {
     "name": "stdout",
     "output_type": "stream",
     "text": [
      "0:\tlearn: 0.5546015\ttotal: 87ms\tremaining: 2m 27s\n",
      "100:\tlearn: 0.0387322\ttotal: 6.38s\tremaining: 1m 40s\n",
      "200:\tlearn: 0.0381117\ttotal: 12.6s\tremaining: 1m 33s\n",
      "300:\tlearn: 0.0378354\ttotal: 18.9s\tremaining: 1m 28s\n",
      "400:\tlearn: 0.0376372\ttotal: 25.2s\tremaining: 1m 21s\n",
      "500:\tlearn: 0.0374821\ttotal: 31.5s\tremaining: 1m 15s\n",
      "600:\tlearn: 0.0373613\ttotal: 37.7s\tremaining: 1m 8s\n",
      "700:\tlearn: 0.0372391\ttotal: 43.9s\tremaining: 1m 2s\n",
      "800:\tlearn: 0.0371354\ttotal: 50.1s\tremaining: 56.3s\n",
      "900:\tlearn: 0.0370363\ttotal: 56.4s\tremaining: 50s\n",
      "1000:\tlearn: 0.0369482\ttotal: 1m 2s\tremaining: 43.8s\n",
      "1100:\tlearn: 0.0368610\ttotal: 1m 8s\tremaining: 37.5s\n",
      "1200:\tlearn: 0.0367762\ttotal: 1m 15s\tremaining: 31.2s\n",
      "1300:\tlearn: 0.0366957\ttotal: 1m 21s\tremaining: 24.9s\n",
      "1400:\tlearn: 0.0366154\ttotal: 1m 27s\tremaining: 18.7s\n",
      "1500:\tlearn: 0.0365385\ttotal: 1m 33s\tremaining: 12.4s\n",
      "1600:\tlearn: 0.0364592\ttotal: 1m 39s\tremaining: 6.17s\n",
      "1699:\tlearn: 0.0363879\ttotal: 1m 45s\tremaining: 0us\n"
     ]
    },
    {
     "name": "stderr",
     "output_type": "stream",
     "text": [
      " 25%|██▌       | 1/4 [35:01<1:45:03, 2101.08s/it]"
     ]
    },
    {
     "name": "stdout",
     "output_type": "stream",
     "text": [
      "Model fitted, target: target_1\n",
      "init clf4\n",
      "init clf5\n",
      "init clf6\n",
      "init clf1\n"
     ]
    }
   ],
   "source": [
    "dw = Downstream(\n",
    "    train_path=X_train,\n",
    "    test_path=X_test,\n",
    "    params=params,\n",
    "    result_path='cb_lgbm_last_try_submit.csv'\n",
    ")\n",
    "\n",
    "scores = dw.run()\n",
    "scores"
   ]
  }
 ],
 "metadata": {
  "kernelspec": {
   "display_name": "py39tf",
   "language": "python",
   "name": "py39tf"
  },
  "language_info": {
   "codemirror_mode": {
    "name": "ipython",
    "version": 3
   },
   "file_extension": ".py",
   "mimetype": "text/x-python",
   "name": "python",
   "nbconvert_exporter": "python",
   "pygments_lexer": "ipython3",
   "version": "3.9.19"
  }
 },
 "nbformat": 4,
 "nbformat_minor": 5
}
