{
 "cells": [
  {
   "cell_type": "code",
   "execution_count": 1,
   "id": "42ba1c33",
   "metadata": {},
   "outputs": [
    {
     "name": "stderr",
     "output_type": "stream",
     "text": [
      "/home/jovyan/.conda/envs/py39tf/lib/python3.9/site-packages/tqdm/auto.py:21: TqdmWarning: IProgress not found. Please update jupyter and ipywidgets. See https://ipywidgets.readthedocs.io/en/stable/user_install.html\n",
      "  from .autonotebook import tqdm as notebook_tqdm\n",
      "\n",
      "libgomp: Invalid value for environment variable OMP_NUM_THREADS\n",
      "\n",
      "libgomp: Invalid value for environment variable OMP_NUM_THREADS\n"
     ]
    }
   ],
   "source": [
    "import pandas as pd\n",
    "import numpy as np\n",
    "from tqdm.auto import tqdm\n",
    "import lightgbm as ltb\n",
    "\n",
    "from sklearn.metrics import roc_auc_score\n",
    "import os\n",
    "os.environ[\"OMP_NUM_THREADS\"] = \"4\"\n",
    "os.environ[\"CUDA_DEVICE_ORDER\"] = \"PCI_BUS_ID\"\n",
    "os.environ[\"CUDA_VISIBLE_DEVICES\"] = \"3,4,5\""
   ]
  },
  {
   "cell_type": "markdown",
   "id": "7a39e3ed",
   "metadata": {},
   "source": [
    "# Train"
   ]
  },
  {
   "cell_type": "code",
   "execution_count": null,
   "id": "ac78374d",
   "metadata": {},
   "outputs": [],
   "source": [
    "train_geo = pd.read_parquet(\"embeddings/train_geo.parquet\")\n",
    "train_trx = pd.read_parquet(\"agg_encoder_train.parquet\")\n",
    "train_dial = pd.read_parquet(\"embeddings/dialog_embs_m_train.parquet\")"
   ]
  },
  {
   "cell_type": "markdown",
   "id": "37f65fd7",
   "metadata": {},
   "source": [
    "# Test"
   ]
  },
  {
   "cell_type": "code",
   "execution_count": null,
   "id": "72b32e0e",
   "metadata": {},
   "outputs": [],
   "source": [
    "test_geo = pd.read_parquet(\"embeddings/geo_not_only_trx.parquet\")\n",
    "test_trx = pd.read_parquet(\"agg_encoder_not_only_trx.parquet\")\n",
    "test_dial = pd.read_parquet(\"embeddings/dialog_embs_m_test.parquet\")"
   ]
  },
  {
   "cell_type": "code",
   "execution_count": 4,
   "id": "939e1994",
   "metadata": {},
   "outputs": [],
   "source": [
    "test_dial['month'] = test_dial['client_id'].str.extract(r'_month=(\\d+)$')[0].astype(np.int8)\n",
    "test_dial['client_id'] = test_dial['client_id'].str.extract(r'(.+)_month')[0]\n",
    "test_dial = test_dial.drop(columns='month')"
   ]
  },
  {
   "cell_type": "code",
   "execution_count": 5,
   "id": "ba1f4d82",
   "metadata": {},
   "outputs": [],
   "source": [
    "aggregation_functions = {f'dialog_emb_{i+1}': 'mean' for i in range(len(test_dial.columns)-2)}\n",
    "test_dial = test_dial.groupby(['client_id']).agg(aggregation_functions).reset_index()"
   ]
  },
  {
   "cell_type": "markdown",
   "id": "27c83442",
   "metadata": {},
   "source": [
    "# Merge Train"
   ]
  },
  {
   "cell_type": "code",
   "execution_count": 6,
   "id": "288fd676",
   "metadata": {},
   "outputs": [],
   "source": [
    "full_train = train_trx.merge(train_geo.drop(columns=['target_1', 'target_2', 'target_3', 'target_4']), on='client_id', how='left')\n",
    "# full_train.fillna(0, inplace=True)"
   ]
  },
  {
   "cell_type": "code",
   "execution_count": 7,
   "id": "a2358300",
   "metadata": {},
   "outputs": [],
   "source": [
    "full_train = full_train.merge(train_dial.drop(columns=['event_time']), on='client_id', how='left')\n",
    "full_train.fillna(0, inplace=True)"
   ]
  },
  {
   "cell_type": "markdown",
   "id": "e4d6e506",
   "metadata": {},
   "source": [
    "# Merge Test"
   ]
  },
  {
   "cell_type": "code",
   "execution_count": 9,
   "id": "1c1d99c6",
   "metadata": {},
   "outputs": [],
   "source": [
    "full_test = test_trx.merge(test_geo, on='client_id', how='left')\n",
    "# full_test.drop(columns=['target_1', 'target_2', 'target_3', 'target_4'], inplace=True)"
   ]
  },
  {
   "cell_type": "code",
   "execution_count": 10,
   "id": "ac2f376c",
   "metadata": {},
   "outputs": [],
   "source": [
    "full_test = full_test.merge(test_dial, on='client_id', how='left')\n",
    "full_test.fillna(0, inplace=True)"
   ]
  },
  {
   "cell_type": "markdown",
   "id": "67c2650a",
   "metadata": {},
   "source": [
    "# Add target features for train"
   ]
  },
  {
   "cell_type": "code",
   "execution_count": 11,
   "id": "adc3d640",
   "metadata": {},
   "outputs": [],
   "source": [
    "X_train = full_train.copy()\n",
    "X_test = full_test.copy()"
   ]
  },
  {
   "cell_type": "code",
   "execution_count": 13,
   "id": "d726a79e",
   "metadata": {},
   "outputs": [
    {
     "data": {
      "text/plain": [
       "19"
      ]
     },
     "execution_count": 13,
     "metadata": {},
     "output_type": "execute_result"
    }
   ],
   "source": [
    "import gc\n",
    "\n",
    "#del unnecessary\n",
    "del train_geo\n",
    "del train_trx\n",
    "del train_dial\n",
    "\n",
    "del test_geo\n",
    "del test_trx\n",
    "del test_dial\n",
    "\n",
    "gc.collect()"
   ]
  },
  {
   "cell_type": "code",
   "execution_count": 14,
   "id": "529357fe",
   "metadata": {},
   "outputs": [],
   "source": [
    "X_train[['client', 'month']] = X_train['client_id'].str.split('_month=', expand = True)\n",
    "X_train['client_id'] = X_train['client'] + '_month=' + X_train['month'].astype(str)\n",
    "X_train['month'] = pd.to_numeric(X_train['month'])"
   ]
  },
  {
   "cell_type": "code",
   "execution_count": 15,
   "id": "ec4701fb",
   "metadata": {},
   "outputs": [
    {
     "name": "stderr",
     "output_type": "stream",
     "text": [
      "100%|██████████| 5/5 [00:07<00:00,  1.44s/it]\n"
     ]
    }
   ],
   "source": [
    "X_train.sort_values(by=['client', 'month'], inplace=True)\n",
    "\n",
    "X_train['any_target'] = X_train[['target_1', 'target_2', 'target_3', 'target_4']].any(axis=1).astype(int)\n",
    "\n",
    "for target in tqdm(['target_1', 'target_2', 'target_3', 'target_4', 'any_target']):\n",
    "    X_train[f'{target}_count'] = X_train.groupby('client')[target].cumsum() - X_train[target]"
   ]
  },
  {
   "cell_type": "code",
   "execution_count": 16,
   "id": "2f27d5ee",
   "metadata": {},
   "outputs": [
    {
     "name": "stderr",
     "output_type": "stream",
     "text": [
      "100%|██████████| 5/5 [30:08<00:00, 361.60s/it]\n"
     ]
    }
   ],
   "source": [
    "last_seen = X_train[['client', 'month']].copy()\n",
    "for target in tqdm(['target_1', 'target_2', 'target_3', 'target_4', 'any_target']):\n",
    "    last_seen[target] = X_train.groupby('client')[target].transform(lambda x: x.where(x == 1).ffill().shift().fillna(0))"
   ]
  },
  {
   "cell_type": "code",
   "execution_count": 18,
   "id": "3c09a390",
   "metadata": {},
   "outputs": [],
   "source": [
    "# for target in tqdm(['target_1', 'target_2', 'target_3', 'target_4', 'any_target']):\n",
    "#     X_train[f'last_{target}_month'] = last_seen.groupby('client')['month'].transform(lambda x: x.where(X_train[target] == 1).ffill().shift().fillna(0))\n"
   ]
  },
  {
   "cell_type": "code",
   "execution_count": 19,
   "id": "a8f9fca4",
   "metadata": {},
   "outputs": [],
   "source": [
    "# for target in tqdm(['target_1', 'target_2', 'target_3', 'target_4', 'any_target']):\n",
    "#     X_train[f'{target}_months_ago'] = X_train['month'] - X_train[f'last_{target}_month']\n",
    "\n",
    "# X_train.drop(columns=['last_target_1_month', 'last_target_2_month', 'last_target_3_month', 'last_target_4_month', 'last_any_target_month', 'client', 'month'], inplace=True)"
   ]
  },
  {
   "cell_type": "code",
   "execution_count": 23,
   "id": "1590a757",
   "metadata": {},
   "outputs": [],
   "source": [
    "X_train.to_parquet(\"embeddings/X_train_lastTry.parquet\", index=False, engine=\"pyarrow\", compression=\"snappy\")"
   ]
  },
  {
   "cell_type": "markdown",
   "id": "e00e702a",
   "metadata": {},
   "source": [
    "# Add target features for test"
   ]
  },
  {
   "cell_type": "code",
   "execution_count": 72,
   "id": "832d9194",
   "metadata": {},
   "outputs": [],
   "source": [
    "test_target_b = pd.read_parquet(\"test_target_b.parquet\")"
   ]
  },
  {
   "cell_type": "code",
   "execution_count": 73,
   "id": "69304962",
   "metadata": {},
   "outputs": [],
   "source": [
    "test_target_b['month'] = pd.to_numeric(pd.to_datetime(test_target_b['mon']).dt.month)"
   ]
  },
  {
   "cell_type": "code",
   "execution_count": 74,
   "id": "d8da91c5",
   "metadata": {},
   "outputs": [
    {
     "data": {
      "text/plain": [
       "5     143831\n",
       "4     143831\n",
       "10    143831\n",
       "8     143831\n",
       "6     143831\n",
       "2     143831\n",
       "3     143831\n",
       "9     143831\n",
       "7     143831\n",
       "11     95776\n",
       "12     49107\n",
       "Name: month, dtype: int64"
      ]
     },
     "execution_count": 74,
     "metadata": {},
     "output_type": "execute_result"
    }
   ],
   "source": [
    "test_target_b['month'].value_counts()"
   ]
  },
  {
   "cell_type": "code",
   "execution_count": 75,
   "id": "d8777a51",
   "metadata": {},
   "outputs": [],
   "source": [
    "# test_target_b['client'] = test_target_b['client_id'] + '_month=' + test_target_b['month'].astype(str)"
   ]
  },
  {
   "cell_type": "code",
   "execution_count": 76,
   "id": "b21b8c97",
   "metadata": {},
   "outputs": [],
   "source": [
    "test_target_b.sort_values(by=['client_id', 'month'], inplace=True)\n",
    "\n",
    "test_target_b['any_target'] = test_target_b[['target_1', 'target_2', 'target_3', 'target_4']].any(axis=1).astype(int)\n",
    "\n",
    "for target in ['target_1', 'target_2', 'target_3', 'target_4', 'any_target']:\n",
    "    test_target_b[f'{target}_count'] = test_target_b.groupby('client_id')[target].cumsum() - test_target_b[target]"
   ]
  },
  {
   "cell_type": "code",
   "execution_count": 77,
   "id": "340ea90f",
   "metadata": {},
   "outputs": [],
   "source": [
    "# last_seen = test_target_b[['client_id', 'month']].copy()\n",
    "# for target in ['target_1', 'target_2', 'target_3', 'target_4', 'any_target']:\n",
    "#     last_seen[target] = test_target_b.groupby('client_id')[target].transform(lambda x: x.where(x == 1).ffill().shift().fillna(0))"
   ]
  },
  {
   "cell_type": "code",
   "execution_count": 78,
   "id": "c5cbd4c1",
   "metadata": {},
   "outputs": [],
   "source": [
    "# for target in ['target_1', 'target_2', 'target_3', 'target_4', 'any_target']:\n",
    "#     test_target_b[f'last_{target}_month'] = last_seen.groupby('client_id')['month'].transform(lambda x: x.where(df[target] == 1).ffill().shift().fillna(0))\n"
   ]
  },
  {
   "cell_type": "code",
   "execution_count": 79,
   "id": "c072486a",
   "metadata": {},
   "outputs": [],
   "source": [
    "# for target in ['target_1', 'target_2', 'target_3', 'target_4', 'any_target']:\n",
    "#     test_target_b[f'{target}_months_ago'] = test_target_b['month'] - test_target_b[f'last_{target}_month']\n",
    "\n",
    "# test_target_b.drop(columns=['last_target_1_month', 'last_target_2_month', 'last_target_3_month', 'last_target_4_month', 'last_any_target_month'], inplace=True)"
   ]
  },
  {
   "cell_type": "code",
   "execution_count": 80,
   "id": "09f06cd1",
   "metadata": {},
   "outputs": [],
   "source": [
    "test_target_b = test_target_b.sort_values(by = 'month', ascending = False)"
   ]
  },
  {
   "cell_type": "code",
   "execution_count": 83,
   "id": "55ebdba0",
   "metadata": {},
   "outputs": [],
   "source": [
    "test_target_b = test_target_b.drop_duplicates(subset = 'client_id', keep = 'first')"
   ]
  },
  {
   "cell_type": "code",
   "execution_count": 84,
   "id": "29dbc6eb",
   "metadata": {},
   "outputs": [
    {
     "data": {
      "text/plain": [
       "12    48877\n",
       "10    46086\n",
       "11    45525\n",
       "Name: month, dtype: int64"
      ]
     },
     "execution_count": 84,
     "metadata": {},
     "output_type": "execute_result"
    }
   ],
   "source": [
    "test_target_b['month'].value_counts()"
   ]
  },
  {
   "cell_type": "code",
   "execution_count": 88,
   "id": "e1a884f8",
   "metadata": {},
   "outputs": [],
   "source": [
    "X_test = full_test.copy()"
   ]
  },
  {
   "cell_type": "code",
   "execution_count": 89,
   "id": "59ccd5a8",
   "metadata": {},
   "outputs": [],
   "source": [
    "X_test = X_test.merge(test_target_b.drop(columns=['target_1', 'target_2', 'target_3', 'target_4']), on='client_id', how='left')"
   ]
  },
  {
   "cell_type": "code",
   "execution_count": 91,
   "id": "dfe23748",
   "metadata": {},
   "outputs": [],
   "source": [
    "X_test.to_parquet(\"embeddings/X_test_lastTry.parquet\", index=False, engine=\"pyarrow\", compression=\"snappy\")"
   ]
  },
  {
   "cell_type": "markdown",
   "id": "22b7af97",
   "metadata": {},
   "source": [
    "# Downstream"
   ]
  },
  {
   "cell_type": "code",
   "execution_count": 2,
   "id": "6441fa34",
   "metadata": {},
   "outputs": [],
   "source": [
    "X_train = pd.read_parquet('embeddings/X_train_lastTry.parquet')\n",
    "X_test = pd.read_parquet('embeddings/X_test_lastTry.parquet')"
   ]
  },
  {
   "cell_type": "code",
   "execution_count": 3,
   "id": "b5f1d398",
   "metadata": {},
   "outputs": [],
   "source": [
    "import catboost as cb"
   ]
  },
  {
   "cell_type": "code",
   "execution_count": 4,
   "id": "2c759093",
   "metadata": {},
   "outputs": [],
   "source": [
    "class Downstream:\n",
    "    def __init__(\n",
    "        self,\n",
    "        train_path,\n",
    "        test_path,\n",
    "        params,\n",
    "        result_path,\n",
    "        col_id='client_id',\n",
    "        targets=(\n",
    "            'target_1',\n",
    "            'target_2',\n",
    "            'target_3',\n",
    "            'target_4'\n",
    "        )\n",
    "    ):\n",
    "        self.train_path = train_path\n",
    "        self.test_path = test_path\n",
    "\n",
    "        self.col_id = col_id\n",
    "        self.all_targets = targets\n",
    "        self.params = params\n",
    "        self.result_path = result_path\n",
    "        self.drop_feat = list(self.all_targets) + [self.col_id] + ['month'] + ['client']\n",
    "\n",
    "    def fit(self):\n",
    "\n",
    "#         train_embeddings =  self.train_path/ #pd.read_parquet(self.train_path)\n",
    "        X_tr = self.train_path.drop(columns=self.drop_feat).copy()\n",
    "\n",
    "        clfs1 = dict()\n",
    "#         clfs2 = dict()\n",
    "#         clfs3 = dict()\n",
    "        clfs4 = dict()\n",
    "        clfs5 = dict()\n",
    "        clfs6 = dict()\n",
    "        \n",
    "        for col_target in tqdm(self.all_targets):\n",
    "            \n",
    "#             clf2 = ltb.LGBMClassifier(**self.params, random_state = 69)\n",
    "#             clf3 = ltb.LGBMClassifier(**self.params, random_state = 228)\n",
    "            print('init clf4')\n",
    "            clf4 = cb.CatBoostClassifier(learning_rate = 0.03, iterations = 1700, class_weights = [1, 9], verbose=100, random_state = 42, task_type = 'GPU')\n",
    "            print('init clf5')\n",
    "            clf5 = cb.CatBoostClassifier(learning_rate = 0.03, iterations = 1700, class_weights = [1, 9], verbose=100, random_state = 69, task_type = 'GPU')\n",
    "            print('init clf6')\n",
    "            clf6 = cb.CatBoostClassifier(learning_rate = 0.03, iterations = 1700, class_weights = [1, 9], verbose=100, random_state = 228, task_type = 'GPU')\n",
    "            print('init clf1')\n",
    "            clf1 = ltb.LGBMClassifier(**self.params, random_state = 42)\n",
    "            y_train = self.train_path[col_target].copy()\n",
    "            \n",
    "            clf1.fit(X_tr, y_train)\n",
    "#             clf2.fit(X_tr, y_train)\n",
    "#             clf3.fit(X_tr, y_train)\n",
    "            clf4.fit(X_tr, y_train)\n",
    "            clf5.fit(X_tr, y_train)\n",
    "            clf6.fit(X_tr, y_train)\n",
    "            \n",
    "            print(f'Model fitted, target: {col_target}')\n",
    "            clfs1[col_target] = clf1\n",
    "#             clfs2[col_target] = clf2\n",
    "#             clfs3[col_target] = clf3\n",
    "            clfs4[col_target] = clf4\n",
    "            clfs5[col_target] = clf5\n",
    "            clfs6[col_target] = clf6\n",
    "\n",
    "#         return clfs1, clfs2,clfs3, clfs4,clfs5, clfs6\n",
    "        return clfs1, clfs4, clfs5, clfs6\n",
    "\n",
    "    def get_scores(\n",
    "        self,\n",
    "        clfs1,\n",
    "#         clfs2,\n",
    "#         clfs3,\n",
    "        clfs4,\n",
    "        clfs5,\n",
    "        clfs6\n",
    "    ):\n",
    "        scores = pd.DataFrame([])\n",
    "\n",
    "#         test_embeddings_curr = self.test_path.drop_duplicates('client_id') #pd.read_parquet(self.test_path).drop_duplicates('client_id')\n",
    "        X_test = (self.test_path.drop_duplicates('client_id')).drop(columns=[self.col_id]).copy()\n",
    "        ids = X_test[self.col_id]\n",
    "        scores[self.col_id] = ids\n",
    "\n",
    "        for col_target in self.all_targets:\n",
    "            clf1 = clfs1[col_target]\n",
    "#             clf2 = clfs2[col_target]\n",
    "#             clf3 = clfs3[col_target]\n",
    "            clf4 = clfs4[col_target]\n",
    "            clf5 = clfs5[col_target]\n",
    "            clf6 = clfs6[col_target]\n",
    "            score1 = clf1.predict_proba(X_test)[:, 1]\n",
    "#             score2 = clf2.predict_proba(X_test)[:, 1]\n",
    "#             score3 = clf3.predict_proba(X_test)[:, 1]\n",
    "            score4 = clf4.predict_proba(X_test)[:, 1]\n",
    "            score5 = clf5.predict_proba(X_test)[:, 1]\n",
    "            score6 = clf6.predict_proba(X_test)[:, 1]\n",
    "            scores[col_target] = 0.7 * (score1) + (score4 + score5 + score6) / 3 * 0.3\n",
    "\n",
    "        return scores\n",
    "\n",
    "    def run(self):\n",
    "        clfs1, clfs4,clfs5, clfs6 = self.fit()\n",
    "        scores = self.get_scores(clfs1, clfs4,clfs5, clfs6)\n",
    "\n",
    "        scores.to_csv(self.result_path)\n",
    "\n",
    "        return scores\n",
    "    \n",
    "params = {\n",
    "    \"n_estimators\": 500,\n",
    "      \"boosting_type\": \"gbdt\",\n",
    "      \"objective\": \"binary\",\n",
    "      \"subsample\": 0.5,\n",
    "      \"subsample_freq\": 1,\n",
    "      \"learning_rate\": 0.02,\n",
    "      \"feature_fraction\": 0.75,\n",
    "      \"max_depth\": 6,\n",
    "      \"lambda_l1\": 1,\n",
    "      \"lambda_l2\": 1,\n",
    "      \"min_data_in_leaf\": 50,\n",
    "      \"n_jobs\": 8,\n",
    "}\n"
   ]
  },
  {
   "cell_type": "code",
   "execution_count": null,
   "id": "e1d6f69a",
   "metadata": {},
   "outputs": [
    {
     "name": "stderr",
     "output_type": "stream",
     "text": [
      "  0%|          | 0/4 [00:00<?, ?it/s]"
     ]
    },
    {
     "name": "stdout",
     "output_type": "stream",
     "text": [
      "init clf4\n",
      "init clf5\n",
      "init clf6\n",
      "init clf1\n",
      "[LightGBM] [Warning] lambda_l1 is set=1, reg_alpha=0.0 will be ignored. Current value: lambda_l1=1\n",
      "[LightGBM] [Warning] feature_fraction is set=0.75, colsample_bytree=1.0 will be ignored. Current value: feature_fraction=0.75\n",
      "[LightGBM] [Warning] lambda_l2 is set=1, reg_lambda=0.0 will be ignored. Current value: lambda_l2=1\n",
      "[LightGBM] [Warning] min_data_in_leaf is set=50, min_child_samples=20 will be ignored. Current value: min_data_in_leaf=50\n",
      "0:\tlearn: 0.5539614\ttotal: 171ms\tremaining: 4m 49s\n",
      "100:\tlearn: 0.0387087\ttotal: 7.45s\tremaining: 1m 57s\n",
      "200:\tlearn: 0.0381086\ttotal: 14.6s\tremaining: 1m 48s\n",
      "300:\tlearn: 0.0378231\ttotal: 21.4s\tremaining: 1m 39s\n",
      "400:\tlearn: 0.0376240\ttotal: 28.1s\tremaining: 1m 31s\n",
      "500:\tlearn: 0.0374714\ttotal: 35s\tremaining: 1m 23s\n",
      "600:\tlearn: 0.0373475\ttotal: 41.8s\tremaining: 1m 16s\n",
      "700:\tlearn: 0.0372266\ttotal: 48.8s\tremaining: 1m 9s\n",
      "800:\tlearn: 0.0371224\ttotal: 55.5s\tremaining: 1m 2s\n",
      "900:\tlearn: 0.0370316\ttotal: 1m 2s\tremaining: 55.2s\n",
      "1000:\tlearn: 0.0369373\ttotal: 1m 9s\tremaining: 48.2s\n",
      "1100:\tlearn: 0.0368478\ttotal: 1m 15s\tremaining: 41.2s\n",
      "1200:\tlearn: 0.0367603\ttotal: 1m 22s\tremaining: 34.3s\n",
      "1300:\tlearn: 0.0366786\ttotal: 1m 29s\tremaining: 27.4s\n"
     ]
    }
   ],
   "source": [
    "dw = Downstream(\n",
    "    train_path=X_train,\n",
    "    test_path=X_test,\n",
    "    params=params,\n",
    "    result_path='last_try_submit.csv'\n",
    ")\n",
    "\n",
    "scores = dw.run()\n",
    "scores"
   ]
  },
  {
   "cell_type": "code",
   "execution_count": null,
   "id": "2204c901",
   "metadata": {},
   "outputs": [],
   "source": []
  }
 ],
 "metadata": {
  "kernelspec": {
   "display_name": "py39tf",
   "language": "python",
   "name": "py39tf"
  },
  "language_info": {
   "codemirror_mode": {
    "name": "ipython",
    "version": 3
   },
   "file_extension": ".py",
   "mimetype": "text/x-python",
   "name": "python",
   "nbconvert_exporter": "python",
   "pygments_lexer": "ipython3",
   "version": "3.9.19"
  }
 },
 "nbformat": 4,
 "nbformat_minor": 5
}
